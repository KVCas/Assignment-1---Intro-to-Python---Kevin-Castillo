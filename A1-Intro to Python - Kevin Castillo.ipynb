{
 "cells": [
  {
   "cell_type": "markdown",
   "id": "c86aa4af",
   "metadata": {},
   "source": [
    "# Assignment 1 - Intro to Python\n",
    "___"
   ]
  },
  {
   "cell_type": "markdown",
   "id": "628da81f",
   "metadata": {},
   "source": [
    "## Exercise 1: Basics"
   ]
  },
  {
   "cell_type": "markdown",
   "id": "d14a81c5",
   "metadata": {},
   "source": [
    "### 1.1 \n",
    "\n",
    "Convert the cell below into a markdown cell with the following content:\n",
    "\n",
    "- A level 3 header titled \"Markdown Cell\"\n",
    "- The following text: \"This is a markdown cell\"\n",
    "- The following text in bold: \"This is bold text\"\n",
    "- The following text in italics: \"This text is italicized\""
   ]
  },
  {
   "cell_type": "markdown",
   "id": "aef27bcb",
   "metadata": {},
   "source": [
    "# 1.1 Answer\n",
    "\n",
    "### Markdown Cell\n",
    "\n",
    "This is a markdown cell\n",
    "\n",
    "**This is bold text**\n",
    "\n",
    "*This text is italicized*\n",
    "\n"
   ]
  },
  {
   "cell_type": "markdown",
   "id": "9821fe72",
   "metadata": {},
   "source": [
    "### 1.2\n",
    "\n",
    "What's the difference between a local and a global variable in Python? \n",
    "Use a multiline comment in the cell below for your answer."
   ]
  },
  {
   "cell_type": "code",
   "execution_count": 111,
   "id": "ab2b4549",
   "metadata": {},
   "outputs": [
    {
     "name": "stdout",
     "output_type": "stream",
     "text": [
      "My name is J. Depp\n",
      "I am not J. Depp\n"
     ]
    }
   ],
   "source": [
    "# 1.2 Answer\n",
    "\n",
    "#Local variables are defined inside a function and are limited to a specific function.\n",
    "#They can only be accessed within a block of code that is declared.\n",
    "\n",
    "#local variable\n",
    "\n",
    "def f(): \n",
    "    x = 'Good morning' \n",
    "    print(x)\n",
    "\n",
    "#Global variables are declared outside a function and they are accessible from any part of a program.\n",
    "#They retain their value unless modified or changed. \n",
    "\n",
    "#Global variable\n",
    "\n",
    "def name():\n",
    "    global name\n",
    "    name = 'J. Depp' \n",
    "    print('My name is', name)\n",
    "    \n",
    "name()\n",
    "print('I am not', name)\n"
   ]
  },
  {
   "cell_type": "markdown",
   "id": "b4014a08",
   "metadata": {},
   "source": [
    "### 1.3\n",
    "\n",
    "Correct the following variable names following Python variable naming convention."
   ]
  },
  {
   "cell_type": "code",
   "execution_count": 4,
   "id": "7f6ec8ef",
   "metadata": {},
   "outputs": [
    {
     "ename": "SyntaxError",
     "evalue": "invalid decimal literal (2954512.py, line 1)",
     "output_type": "error",
     "traceback": [
      "\u001b[0;36m  Cell \u001b[0;32mIn[4], line 1\u001b[0;36m\u001b[0m\n\u001b[0;31m    1st_variable = 'Hello'\u001b[0m\n\u001b[0m    ^\u001b[0m\n\u001b[0;31mSyntaxError\u001b[0m\u001b[0;31m:\u001b[0m invalid decimal literal\n"
     ]
    }
   ],
   "source": [
    "# 1.3.1\n",
    "\n",
    "1st_variable = 'Hello'"
   ]
  },
  {
   "cell_type": "code",
   "execution_count": 8,
   "id": "752632e5",
   "metadata": {},
   "outputs": [
    {
     "name": "stdout",
     "output_type": "stream",
     "text": [
      "Hello\n"
     ]
    }
   ],
   "source": [
    "# 1.3.1 Answer\n",
    "variable_1st = 'Hello'\n",
    "print(variable_1st)\n"
   ]
  },
  {
   "cell_type": "code",
   "execution_count": 5,
   "id": "a1c759f1",
   "metadata": {},
   "outputs": [],
   "source": [
    "# 1.3.2\n",
    "\n",
    "My_VAR = '5'"
   ]
  },
  {
   "cell_type": "code",
   "execution_count": 9,
   "id": "867c3eb9",
   "metadata": {},
   "outputs": [],
   "source": [
    "# 1.3.2 Answer\n",
    "\n",
    "my_var = 5"
   ]
  },
  {
   "cell_type": "markdown",
   "id": "ecedfba6",
   "metadata": {},
   "source": [
    "### 1.4\n",
    "\n",
    "Given the variables:\n",
    "\n",
    "    country = 'Canada'\n",
    "    city = 'Ottawa'\n",
    "\n",
    "Use the `format()` method to print the following string: \"**The capital of Canada is Ottawa**\""
   ]
  },
  {
   "cell_type": "code",
   "execution_count": 10,
   "id": "b43b4dca",
   "metadata": {},
   "outputs": [
    {
     "data": {
      "text/plain": [
       "'The capital of Canada is Ottawa'"
      ]
     },
     "execution_count": 10,
     "metadata": {},
     "output_type": "execute_result"
    }
   ],
   "source": [
    "# 1.4 Answer\n",
    "\n",
    "'The capital of {country} is {city}'.format(country = 'Canada', city = 'Ottawa')"
   ]
  },
  {
   "cell_type": "markdown",
   "id": "38baaa0b",
   "metadata": {},
   "source": [
    "## Exercise 2: Python Data Types"
   ]
  },
  {
   "cell_type": "markdown",
   "id": "cc0b752f",
   "metadata": {},
   "source": [
    "### 2.1 \n",
    "\n",
    "Perform the following conversions:"
   ]
  },
  {
   "cell_type": "code",
   "execution_count": 6,
   "id": "836e7c8e",
   "metadata": {},
   "outputs": [],
   "source": [
    "# 2.1.1\n",
    "# Convert this string into an integer using the int() function\n",
    "\n",
    "s = '123'"
   ]
  },
  {
   "cell_type": "code",
   "execution_count": 11,
   "id": "bbbaed4f",
   "metadata": {},
   "outputs": [
    {
     "name": "stdout",
     "output_type": "stream",
     "text": [
      "123\n"
     ]
    }
   ],
   "source": [
    "# 2.1.1 Answer\n",
    "\n",
    "s = '123'\n",
    "print(int(s))"
   ]
  },
  {
   "cell_type": "code",
   "execution_count": 11,
   "id": "f39db411",
   "metadata": {},
   "outputs": [],
   "source": [
    "# 2.1.2\n",
    "# Convert this number to a string using the str() function\n",
    "\n",
    "i = 456"
   ]
  },
  {
   "cell_type": "code",
   "execution_count": 31,
   "id": "51990c34",
   "metadata": {},
   "outputs": [
    {
     "name": "stdout",
     "output_type": "stream",
     "text": [
      "456\n"
     ]
    },
    {
     "data": {
      "text/plain": [
       "str"
      ]
     },
     "execution_count": 31,
     "metadata": {},
     "output_type": "execute_result"
    }
   ],
   "source": [
    "# 2.1.2 Answer\n",
    "\n",
    "i = 456\n",
    "string_number = str(i)\n",
    "print(string_number)\n",
    "type(string_number)"
   ]
  },
  {
   "cell_type": "code",
   "execution_count": 13,
   "id": "37a93d08",
   "metadata": {},
   "outputs": [],
   "source": [
    "# 2.1.2 \n",
    "# Convert this float to an integer\n",
    "\n",
    "f = 3.14"
   ]
  },
  {
   "cell_type": "code",
   "execution_count": 13,
   "id": "d7bbe1ae",
   "metadata": {},
   "outputs": [
    {
     "name": "stdout",
     "output_type": "stream",
     "text": [
      "3\n"
     ]
    }
   ],
   "source": [
    "# 2.1.2 Answer\n",
    "\n",
    "f = 3.14\n",
    "interger_number = int(f)\n",
    "print(interger_number)"
   ]
  },
  {
   "cell_type": "markdown",
   "id": "4d249c91",
   "metadata": {},
   "source": [
    "## Exercise 3: Data Containers"
   ]
  },
  {
   "cell_type": "markdown",
   "id": "930bca67",
   "metadata": {},
   "source": [
    "### 3.1\n",
    "\n",
    "Create a list called **my_list** that contains the numbers from 1-5"
   ]
  },
  {
   "cell_type": "code",
   "execution_count": 76,
   "id": "be85fffa",
   "metadata": {},
   "outputs": [
    {
     "name": "stdout",
     "output_type": "stream",
     "text": [
      "[1, 2, 3, 4, 5]\n"
     ]
    }
   ],
   "source": [
    "# 3.1 Answer\n",
    "my_list = list(range(1,6))\n",
    "print(my_list)\n"
   ]
  },
  {
   "cell_type": "markdown",
   "id": "7db28209",
   "metadata": {},
   "source": [
    "### 3.2\n",
    "\n",
    "Use negative indexing to access the last element in **my_list**."
   ]
  },
  {
   "cell_type": "code",
   "execution_count": 78,
   "id": "3bcb7576",
   "metadata": {},
   "outputs": [
    {
     "data": {
      "text/plain": [
       "5"
      ]
     },
     "execution_count": 78,
     "metadata": {},
     "output_type": "execute_result"
    }
   ],
   "source": [
    "# 3.2 Answer\n",
    "\n",
    "my_list[-1]"
   ]
  },
  {
   "cell_type": "markdown",
   "id": "1459bcfd",
   "metadata": {},
   "source": [
    "### 3.3\n",
    "\n",
    "Create another list called **new_list** that contains 3 negative numbers only."
   ]
  },
  {
   "cell_type": "code",
   "execution_count": 24,
   "id": "c7cdcf4b",
   "metadata": {},
   "outputs": [
    {
     "name": "stdout",
     "output_type": "stream",
     "text": [
      "[-3, -2, -1]\n"
     ]
    }
   ],
   "source": [
    "# 3.3 Answer\n",
    "\n",
    "new_list = list(range(-3,0))\n",
    "print(new_list)"
   ]
  },
  {
   "cell_type": "markdown",
   "id": "9a683f29",
   "metadata": {},
   "source": [
    "### 3.4\n",
    "\n",
    "Append the second element of **new_list** to **my_list**, then print the updated **my_list**."
   ]
  },
  {
   "cell_type": "code",
   "execution_count": 27,
   "id": "142ce2a5",
   "metadata": {},
   "outputs": [
    {
     "data": {
      "text/plain": [
       "[1, 2, 3, 4, 5, [-3, -2, -1]]"
      ]
     },
     "execution_count": 27,
     "metadata": {},
     "output_type": "execute_result"
    }
   ],
   "source": [
    "# 3.4 Answer\n",
    "\n",
    "my_list.append(new_list)\n",
    "my_list\n"
   ]
  },
  {
   "cell_type": "markdown",
   "id": "4e0548d6",
   "metadata": {},
   "source": [
    "### 3.5\n",
    "\n",
    "Create a dictionary with the following keys, 'Name', 'Year', 'Music' and 'Food'. The values associated with each key (in order) should be your name, the current year, you favourite genre of music and one of your favourite foods. \n",
    "\n",
    "Name the dictionary **my_dict** and print it. "
   ]
  },
  {
   "cell_type": "code",
   "execution_count": 37,
   "id": "69fb4235",
   "metadata": {},
   "outputs": [
    {
     "data": {
      "text/plain": [
       "dict_values(['Kevin', '2024', 'RnB', 'Everything'])"
      ]
     },
     "execution_count": 37,
     "metadata": {},
     "output_type": "execute_result"
    }
   ],
   "source": [
    "# 3.5 Answer\n",
    "\n",
    "my_dict = {'Name': 'Kevin', 'Year': '2024', 'Music' : 'RnB', 'Food': 'Everything'}\n",
    "my_dict.values()"
   ]
  },
  {
   "cell_type": "markdown",
   "id": "6d5942e6",
   "metadata": {},
   "source": [
    "### 3.6\n",
    "\n",
    "Replace the value associated with 'Food' to another one of your favourite foods.\n",
    "Print the updated dictionary."
   ]
  },
  {
   "cell_type": "code",
   "execution_count": 40,
   "id": "7dad74e9",
   "metadata": {},
   "outputs": [
    {
     "data": {
      "text/plain": [
       "dict_values(['Kevin', '2024', 'RnB', 'French'])"
      ]
     },
     "execution_count": 40,
     "metadata": {},
     "output_type": "execute_result"
    }
   ],
   "source": [
    "# 3.6 Answer\n",
    "\n",
    "my_dict.update({'Food': 'French'})\n",
    "my_dict.values()"
   ]
  },
  {
   "cell_type": "markdown",
   "id": "4ffc85dd",
   "metadata": {},
   "source": [
    "### 3.7\n",
    "\n",
    "Given this nested dictionary, grab the word \"YES\"."
   ]
  },
  {
   "cell_type": "code",
   "execution_count": 21,
   "id": "82430263",
   "metadata": {},
   "outputs": [
    {
     "data": {
      "text/plain": [
       "{'key': [634,\n",
       "  11,\n",
       "  9892,\n",
       "  {'another key': ['more', 'values', 'here', {'target': [9, 8, 7, 'YES']}]}]}"
      ]
     },
     "execution_count": 21,
     "metadata": {},
     "output_type": "execute_result"
    }
   ],
   "source": [
    "d = {'key':[634,11,9892,{'another key':['more','values','here',{'target':[9,8,7,'YES']}]}]}\n",
    "d"
   ]
  },
  {
   "cell_type": "code",
   "execution_count": 104,
   "id": "2cc780f4",
   "metadata": {},
   "outputs": [
    {
     "name": "stdout",
     "output_type": "stream",
     "text": [
      "YES\n"
     ]
    }
   ],
   "source": [
    "# 3.7 Answer\n",
    "d = {'key':[634,11,9892,{'another key':['more','values','here',{'target':[9,8,7,'YES']}]}]}\n",
    "\n",
    "target = d['key'][3]['another key'][3]['target'][3]\n",
    "print(target)"
   ]
  },
  {
   "cell_type": "markdown",
   "id": "99b11025",
   "metadata": {},
   "source": [
    "### 3.8\n",
    "\n",
    "What is the difference between a tuple and a set?"
   ]
  },
  {
   "cell_type": "code",
   "execution_count": 112,
   "id": "39fe046d",
   "metadata": {},
   "outputs": [
    {
     "name": "stdout",
     "output_type": "stream",
     "text": [
      "1\n",
      "{'Subaru', 'Honda', 'Toyota', 'Lexus'}\n"
     ]
    }
   ],
   "source": [
    "# 3.8 Answer\n",
    "#Tuple are unchangeable, are ordered and duplicates are allowed.\n",
    "#The values of a tuple uses ()\n",
    "\n",
    "cars = ('Toyota', 'Subaru', 'Honda')\n",
    "print(cars.count('Toyota'))\n",
    "\n",
    "#Sets are unordered, immutable and does not allow doubles but can remove or add items\n",
    "#The values of a set uses {} and we cannot use indexing since it is unordered\n",
    "\n",
    "cars = {'Toyota', 'Subaru', 'Honda'}\n",
    "cars.add('Lexus')\n",
    "print(cars)"
   ]
  },
  {
   "cell_type": "markdown",
   "id": "f3521cec-02bd-40fa-8160-85fbb3c54778",
   "metadata": {},
   "source": [
    "### 3.9\n",
    "\n",
    "Given the following list:\n",
    "\n",
    "`l = [1,2,3,1]`\n",
    "\n",
    "Convert it to a list with unique values only. "
   ]
  },
  {
   "cell_type": "code",
   "execution_count": 103,
   "id": "78bb391e",
   "metadata": {},
   "outputs": [
    {
     "name": "stdout",
     "output_type": "stream",
     "text": [
      "[1, 2, 3]\n"
     ]
    }
   ],
   "source": [
    "# 3.9 Answer\n",
    "\n",
    "value = [1,2,3,1]\n",
    "unique_val = set(value)\n",
    "unique_list = list(unique_val)\n",
    "print(unique_list)"
   ]
  },
  {
   "cell_type": "markdown",
   "id": "ab89e99f",
   "metadata": {
    "tags": []
   },
   "source": [
    "## Exercise 4: Python Operators"
   ]
  },
  {
   "cell_type": "markdown",
   "id": "e805e355",
   "metadata": {},
   "source": [
    "### 4.1\n",
    "\n",
    "Perform the follwoing arithmetic operation: (5+3) x 2"
   ]
  },
  {
   "cell_type": "code",
   "execution_count": 84,
   "id": "09fe76b0",
   "metadata": {},
   "outputs": [
    {
     "name": "stdout",
     "output_type": "stream",
     "text": [
      "16\n"
     ]
    }
   ],
   "source": [
    "# 4.1 Answer\n",
    "\n",
    "result = (5 + 3)*2\n",
    "print(result)"
   ]
  },
  {
   "cell_type": "markdown",
   "id": "796ce86e",
   "metadata": {
    "tags": []
   },
   "source": [
    "### 4.2\n",
    "\n",
    "Explain the difference between `/` and `//` division operators in Python"
   ]
  },
  {
   "cell_type": "code",
   "execution_count": 87,
   "id": "ca416e34",
   "metadata": {},
   "outputs": [
    {
     "name": "stdout",
     "output_type": "stream",
     "text": [
      "4.5\n",
      "4\n"
     ]
    },
    {
     "data": {
      "text/plain": [
       "float"
      ]
     },
     "execution_count": 87,
     "metadata": {},
     "output_type": "execute_result"
    }
   ],
   "source": [
    "# 4.2 Answer\n",
    "\n",
    "#The / will give a float number, and the // will result in a interger.\n",
    "#The / will include the decimal points, and // will not.\n",
    "\n",
    "division1 = 9/2\n",
    "print(division1)\n",
    "\n",
    "division2 = 9//2\n",
    "print(division2)\n"
   ]
  },
  {
   "cell_type": "markdown",
   "id": "c8063453",
   "metadata": {},
   "source": [
    "### 4.3\n",
    "\n",
    "What is the result of 7%3?"
   ]
  },
  {
   "cell_type": "code",
   "execution_count": 93,
   "id": "2de8a10c",
   "metadata": {},
   "outputs": [
    {
     "name": "stdout",
     "output_type": "stream",
     "text": [
      "1\n"
     ]
    }
   ],
   "source": [
    "# 4.3\n",
    "\n",
    "result = 7%3\n",
    "print(result)\n",
    "\n",
    "#Calculates the remainder of the division."
   ]
  },
  {
   "cell_type": "markdown",
   "id": "d5b8ccfe",
   "metadata": {},
   "source": [
    "### 4.4\n",
    "\n",
    "Use the `in` operator to check whether the number 3 and the number 7 are in the following list:"
   ]
  },
  {
   "cell_type": "code",
   "execution_count": 25,
   "id": "2b893e14",
   "metadata": {},
   "outputs": [],
   "source": [
    "lst = [1,2,3,4,5]"
   ]
  },
  {
   "cell_type": "code",
   "execution_count": 95,
   "id": "8ce175d0",
   "metadata": {},
   "outputs": [
    {
     "name": "stdout",
     "output_type": "stream",
     "text": [
      "True\n",
      "False\n"
     ]
    }
   ],
   "source": [
    "# 4.4 Answer (Don't forget to print your results)\n",
    "\n",
    "list1 = [1,2,3,4,5]\n",
    "print(3 in list1)\n",
    "print(7 in list1)"
   ]
  },
  {
   "cell_type": "markdown",
   "id": "70df4331",
   "metadata": {},
   "source": [
    "### 4.5\n",
    "\n",
    "Explain the difference between `=` and `==` using the following two variables:"
   ]
  },
  {
   "cell_type": "code",
   "execution_count": 30,
   "id": "67aed188",
   "metadata": {},
   "outputs": [],
   "source": [
    "x = 5\n",
    "y = 10"
   ]
  },
  {
   "cell_type": "code",
   "execution_count": 101,
   "id": "a183b54b",
   "metadata": {},
   "outputs": [
    {
     "name": "stdout",
     "output_type": "stream",
     "text": [
      "15\n",
      "False\n",
      "True\n"
     ]
    }
   ],
   "source": [
    "# 4.5 Answer\n",
    "\n",
    "# The = is used to assign a value and it does not compare values.\n",
    "# The == is used to compare two values and returns a \"True\" or \"False\" statement\n",
    "\n",
    "x = 5\n",
    "y = 10\n",
    "\n",
    "val = x + y\n",
    "print(val)\n",
    "\n",
    "result = x==y\n",
    "print(result)\n",
    "\n",
    "result1 = x==5\n",
    "print(result1)\n"
   ]
  },
  {
   "cell_type": "markdown",
   "id": "bc33b830-9708-48e2-a397-712f4ddad816",
   "metadata": {},
   "source": [
    "# The End!"
   ]
  }
 ],
 "metadata": {
  "kernelspec": {
   "display_name": "Python 3 (ipykernel)",
   "language": "python",
   "name": "python3"
  },
  "language_info": {
   "codemirror_mode": {
    "name": "ipython",
    "version": 3
   },
   "file_extension": ".py",
   "mimetype": "text/x-python",
   "name": "python",
   "nbconvert_exporter": "python",
   "pygments_lexer": "ipython3",
   "version": "3.11.7"
  }
 },
 "nbformat": 4,
 "nbformat_minor": 5
}
